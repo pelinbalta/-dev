{
  "nbformat": 4,
  "nbformat_minor": 0,
  "metadata": {
    "colab": {
      "provenance": [],
      "authorship_tag": "ABX9TyOfTx637M99RH/qFosb4C/8",
      "include_colab_link": true
    },
    "kernelspec": {
      "name": "python3",
      "display_name": "Python 3"
    },
    "language_info": {
      "name": "python"
    }
  },
  "cells": [
    {
      "cell_type": "markdown",
      "metadata": {
        "id": "view-in-github",
        "colab_type": "text"
      },
      "source": [
        "<a href=\"https://colab.research.google.com/github/pelinbalta/-dev/blob/main/%C3%B6dev_py.ipynb\" target=\"_parent\"><img src=\"https://colab.research.google.com/assets/colab-badge.svg\" alt=\"Open In Colab\"/></a>"
      ]
    },
    {
      "cell_type": "code",
      "execution_count": 4,
      "metadata": {
        "colab": {
          "base_uri": "https://localhost:8080/"
        },
        "id": "2fA73fEvuzqv",
        "outputId": "f9fb6741-0a44-4326-8de5-b8ef6114193a"
      },
      "outputs": [
        {
          "output_type": "stream",
          "name": "stdout",
          "text": [
            "Tüm nokta çiftleri arasındaki Öklid mesafeleri: [2.8284271247461903, 4.0, 4.898979485566356, 5.656854249492381, 2.8284271247461903, 4.0, 4.898979485566356, 2.8284271247461903, 4.0, 2.8284271247461903]\n",
            "En kısa mesafe: 2.8284271247461903\n"
          ]
        }
      ],
      "source": [
        "import math\n",
        "\n",
        "# Öklid mesafesi hesaplayan fonksiyon\n",
        "def euclideanDistance(point1, point2):\n",
        "    \"\"\"\n",
        "    İki nokta arasındaki Öklid mesafesini hesaplar.\n",
        "    \"\"\"\n",
        "    return math.sqrt((point2[0] - point1[0])*2 + (point2[1] - point1[1])*2)\n",
        "\n",
        "# Noktaları tanımlayın\n",
        "points = [(1, 2), (3, 4), (5, 6), (7, 8), (9, 10)]\n",
        "\n",
        "# Mesafeleri saklayacağımız liste\n",
        "distances = []\n",
        "\n",
        "# Tüm nokta çiftleri için Öklid mesafelerini hesapla\n",
        "for i in range(len(points)):\n",
        "    for j in range(i + 1, len(points)):  # Kendisiyle olan mesafeyi hesaplamayı önler\n",
        "        distance = euclideanDistance(points[i], points[j])\n",
        "        distances.append(distance)\n",
        "\n",
        "# Minimum mesafeyi bulun\n",
        "if distances:  # distances listesi boş değilse işlem yap\n",
        "    min_distance = min(distances)\n",
        "    print(\"Tüm nokta çiftleri arasındaki Öklid mesafeleri:\", distances)\n",
        "    print(\"En kısa mesafe:\", min_distance)\n",
        "else:\n",
        "    print(\"Mesafeleri hesaplamak için yeterli nokta yok.\")\n"
      ]
    }
  ]
}